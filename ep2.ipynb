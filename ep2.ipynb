{
 "cells": [
  {
   "cell_type": "markdown",
   "metadata": {
    "id": "pvaYxt9Ibv1e"
   },
   "source": [
    "<font size=\"5\"> <a href=\"https://uspdigital.usp.br/jupiterweb/obterDisciplina?sgldis=MAC0209\"> Exercício de MAC0209 - Modelagem e Simulação</a> </font>\n",
    "\n",
    "Rafael Baía Sales - 15484912 (IME-USP)\n",
    "\n",
    "Rafael dos Santos Lombardi - 15485062 (IME-USP)\n",
    "\n",
    "***\n",
    "<font size=\"5\"> EP2 - Mobilidade Pedestre </font>\n",
    "***"
   ]
  },
  {
   "cell_type": "markdown",
   "metadata": {
    "id": "QklAi6a0bv1h"
   },
   "source": [
    "# Setup"
   ]
  },
  {
   "cell_type": "code",
   "execution_count": null,
   "metadata": {
    "colab": {
     "base_uri": "https://localhost:8080/"
    },
    "executionInfo": {
     "elapsed": 62187,
     "status": "ok",
     "timestamp": 1709583953617,
     "user": {
      "displayName": "Roberto M Cesar-Jr",
      "userId": "07799089339871026779"
     },
     "user_tz": 180
    },
    "id": "UME7MmYJThIZ",
    "outputId": "aee928f2-7d30-406a-8199-cb914402fbac"
   },
   "outputs": [
    {
     "name": "stdout",
     "output_type": "stream",
     "text": [
      "Mounted at /content/drive\n"
     ]
    }
   ],
   "source": [
    "# setup aqui\n",
    "\n",
    "## Depois a gente exporta para o Google Colab\n",
    "# from google.colab import drive\n",
    "# drive.mount('/content/drive')\n",
    "\n",
    "import math\n",
    "import matplotlib.pyplot as pyplot\n",
    "import pandas as pd\n",
    "import numpy as np\n",
    "\n",
    "\n",
    "\n",
    "\n"
   ]
  },
  {
   "cell_type": "markdown",
   "metadata": {
    "id": "AqDavzULTkyg"
   },
   "source": [
    "# Lib"
   ]
  },
  {
   "cell_type": "code",
   "execution_count": 1,
   "metadata": {
    "colab": {
     "base_uri": "https://localhost:8080/"
    },
    "executionInfo": {
     "elapsed": 322,
     "status": "ok",
     "timestamp": 1709584311208,
     "user": {
      "displayName": "Roberto M Cesar-Jr",
      "userId": "07799089339871026779"
     },
     "user_tz": 180
    },
    "id": "kSjv7-0KbBCI",
    "outputId": "13fc0712-0315-456a-fdb5-0428f5e4310f"
   },
   "outputs": [],
   "source": [
    "# lib aqui\n",
    "\n",
    "\n",
    "# edite seu path abaixo:\n",
    "# def myPath():\n",
    "#   workDir = '/content/drive/MyDrive/doc/Courses/Modelagem/programas/jupyter/2022/'\n",
    "#   return(workDir)\n",
    "\n",
    "# def demoWorkDir():\n",
    "#   # usa o ponto de montagem do google drive para  ler e salvar dados\n",
    "#   wd = myPath()\n",
    "#   csvFile = wd + 'foo.csv'\n",
    "\n",
    "#   df = pd.read_csv(csvFile, sep = ';')\n",
    "#   print(df.to_string())\n",
    "\n",
    "# demoWorkDir()\n",
    "\n",
    "##################\n"
   ]
  },
  {
   "cell_type": "code",
   "execution_count": null,
   "metadata": {
    "id": "KG8LKSSgTqqS"
   },
   "outputs": [],
   "source": []
  },
  {
   "cell_type": "markdown",
   "metadata": {
    "id": "bKrj26w7UKDK"
   },
   "source": [
    "# Main"
   ]
  }
 ],
 "metadata": {
  "anaconda-cloud": {},
  "colab": {
   "provenance": []
  },
  "kernelspec": {
   "display_name": "data",
   "language": "python",
   "name": "python3"
  },
  "language_info": {
   "codemirror_mode": {
    "name": "ipython",
    "version": 3
   },
   "file_extension": ".py",
   "mimetype": "text/x-python",
   "name": "python",
   "nbconvert_exporter": "python",
   "pygments_lexer": "ipython3",
   "version": "3.12.7"
  },
  "toc": {
   "base_numbering": 1,
   "nav_menu": {},
   "number_sections": true,
   "sideBar": true,
   "skip_h1_title": false,
   "title_cell": "Table of Contents",
   "title_sidebar": "Contents",
   "toc_cell": false,
   "toc_position": {},
   "toc_section_display": true,
   "toc_window_display": false
  }
 },
 "nbformat": 4,
 "nbformat_minor": 0
}
